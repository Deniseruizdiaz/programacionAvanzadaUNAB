{
  "nbformat": 4,
  "nbformat_minor": 0,
  "metadata": {
    "colab": {
      "provenance": [],
      "include_colab_link": true
    },
    "kernelspec": {
      "name": "python3",
      "display_name": "Python 3"
    },
    "language_info": {
      "name": "python"
    }
  },
  "cells": [
    {
      "cell_type": "markdown",
      "metadata": {
        "id": "view-in-github",
        "colab_type": "text"
      },
      "source": [
        "<a href=\"https://colab.research.google.com/github/Deniseruizdiaz/programacionAvanzadaUNAB/blob/main/Clase1_area_y_perimetro_procedural.ipynb\" target=\"_parent\"><img src=\"https://colab.research.google.com/assets/colab-badge.svg\" alt=\"Open In Colab\"/></a>"
      ]
    },
    {
      "cell_type": "code",
      "source": [
        "#Funciones para figuras geométricas\n",
        "\n",
        "import math\n",
        "\n",
        "#perímetro cuadrado \n",
        "def perimetro_cuadrado (lado):\n",
        "  return 4 * lado\n",
        "\n",
        "#area del cuadrado \n",
        "def area_cuadrado(lado):\n",
        "  return lado * lado\n",
        "\n",
        "#perímetro rectangulo \n",
        "def perimetro_rectangulo (lado1, lado2):\n",
        "  return 2 * lado1 + 2* lado2\n",
        "\n",
        "#area del rectangulo \n",
        "def area_rectangulo(lado1, lado2):\n",
        "  return lado1 * lado2\n",
        "\n",
        "#perímetro circunferencia \n",
        "\n",
        "def perimetro_circunferencia (radio):\n",
        "    return math.pi*radio*2\n",
        "\n",
        "#area de circunferencia \n",
        "def area_circunferencia(radio):\n",
        "    return math.pi*radio**2\n",
        "\n",
        "\n"
      ],
      "metadata": {
        "id": "Oo8ngph2Winr"
      },
      "execution_count": null,
      "outputs": []
    },
    {
      "cell_type": "code",
      "source": [
        "##prueba\n",
        "#area y perimetro de un cuadrado \n",
        "lado =  float(input(\"Ingresa el valor del lado del cuadrado:\"))\n",
        "\n",
        "print(\"El perimetro del cuadrado es:\", perimetro_cuadrado(lado))\n",
        "print(\"El perimetro del cuadrado es:\", area_cuadrado(lado))\n"
      ],
      "metadata": {
        "id": "G-J7RBo_oj_h",
        "outputId": "78ba8d88-5a8c-49f3-a0f7-b6b9b8b25613",
        "colab": {
          "base_uri": "https://localhost:8080/"
        }
      },
      "execution_count": null,
      "outputs": [
        {
          "output_type": "stream",
          "name": "stdout",
          "text": [
            "Ingresa el valor del lado del cuadrado:10\n",
            "El perimetro del cuadrado es: 40.0\n",
            "El perimetro del cuadrado es: 100.0\n"
          ]
        }
      ]
    },
    {
      "cell_type": "code",
      "source": [
        "##prueba\n",
        "#area y perimetro de un rectangulo\n",
        "lado1 =  float(input(\"Ingresa el valor de la base:\"))\n",
        "lado2 =  float(input(\"Ingresa el valor de la altura:\"))\n",
        "\n",
        "print(\"El perimetro del rectangulo es:\", perimetro_rectangulo(lado1, lado2))\n",
        "print(\"El perimetro del rectangulo es:\", area_rectangulo(lado1, lado2))"
      ],
      "metadata": {
        "id": "QE7uBRX3pprR",
        "outputId": "ecc914d6-7310-48ad-e9fa-8e2da6385035",
        "colab": {
          "base_uri": "https://localhost:8080/"
        }
      },
      "execution_count": null,
      "outputs": [
        {
          "output_type": "stream",
          "name": "stdout",
          "text": [
            "Ingresa el valor de la base:2\n",
            "Ingresa el valor de la altura:5\n",
            "El perimetro del rectangulo es: 14.0\n",
            "El perimetro del rectangulo es: 10.0\n"
          ]
        }
      ]
    },
    {
      "cell_type": "code",
      "source": [
        "##prueba\n",
        "#area y perimetro de una circunferencia\n",
        "radio =  float(input(\"Ingresa el valor del radio:\"))\n",
        "\n",
        "\n",
        "print(\"El perimetro de la circunferencia es:\", perimetro_circunferencia(radio))\n",
        "print(\"El area de la circunferencia es:\", area_circunferencia(radio))"
      ],
      "metadata": {
        "id": "vLiaFWm4qFZ5",
        "outputId": "b766a863-5b0d-4303-baff-39afc839d554",
        "colab": {
          "base_uri": "https://localhost:8080/"
        }
      },
      "execution_count": null,
      "outputs": [
        {
          "output_type": "stream",
          "name": "stdout",
          "text": [
            "Ingresa el valor del radio:10\n",
            "El perimetro de la circunferencia es: 62.83185307179586\n",
            "El area de la circunferencia es: 314.1592653589793\n"
          ]
        }
      ]
    }
  ]
}