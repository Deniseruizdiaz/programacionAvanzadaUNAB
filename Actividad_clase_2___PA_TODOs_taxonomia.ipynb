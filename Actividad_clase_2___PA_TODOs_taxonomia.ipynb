{
  "nbformat": 4,
  "nbformat_minor": 0,
  "metadata": {
    "colab": {
      "provenance": [],
      "include_colab_link": true
    },
    "kernelspec": {
      "name": "python3",
      "display_name": "Python 3"
    },
    "language_info": {
      "name": "python"
    }
  },
  "cells": [
    {
      "cell_type": "markdown",
      "metadata": {
        "id": "view-in-github",
        "colab_type": "text"
      },
      "source": [
        "<a href=\"https://colab.research.google.com/github/Deniseruizdiaz/programacionAvanzadaUNAB/blob/main/Actividad_clase_2___PA_TODOs_taxonomia.ipynb\" target=\"_parent\"><img src=\"https://colab.research.google.com/assets/colab-badge.svg\" alt=\"Open In Colab\"/></a>"
      ]
    },
    {
      "cell_type": "markdown",
      "source": [
        "1) Cuentas bancarias "
      ],
      "metadata": {
        "id": "NamTs51Vdrdd"
      }
    },
    {
      "cell_type": "code",
      "execution_count": null,
      "metadata": {
        "id": "x1Kn9JtkdJZI"
      },
      "outputs": [],
      "source": [
        "class CuentaBancaria():\n",
        "    ''' Clase que nos permite la gestión de una Cuenta Bancaria genérica!\n",
        "    '''\n",
        "    \n",
        "    def __init__(self, saldo_inicial, nombre, apellido, moneda = '$'):\n",
        "        # TODO: Ver la forma de soportar cajas de ahorro y/o cuentas corrientes\n",
        "        self.movimientos = []\n",
        "        self.saldo = saldo_inicial\n",
        "        self.nombre = nombre\n",
        "        self.apellido = apellido\n",
        "        self.moneda = moneda\n",
        "\n",
        "    def depositar(self, monto):\n",
        "        '''Método que nos permite realizar un depósito bancario'''\n",
        "        self.movimientos.append('DEPOSITO: ' + str(monto))\n",
        "        self.saldo = self.saldo + monto\n",
        "\n",
        "\n",
        "    def extraer(self, monto):\n",
        "        '''Método que nos permite realizar una extracción de un cuenta bancaria'''\n",
        "        if self.saldo - monto >= 0:\n",
        "            self.movimientos.append('EXTRACCION: ' + str(monto))\n",
        "            self.saldo = self.saldo - monto\n",
        "        else:\n",
        "           self.movimientos.append('SALDO INSUFICIENTE: ' + str(monto)) \n",
        "           print(\"Saldo insuficiente\")\n",
        "        \n",
        "\n",
        "    def datos_titular(self):\n",
        "        '''Método que nos permite mostrar los datos del titular y su saldo'''\n",
        "        return self.apellido + ', ' + self.nombre + \" con el saldo: \" + str(self.saldo) + \" \" + self.moneda\n",
        "    \n",
        "    def datos_saldo(self):\n",
        "        return self.saldo\n",
        "\n",
        "    def _reset_saldo(self):\n",
        "        self.saldo = 0 \n",
        "\n",
        "    def datos_movimientos(self):\n",
        "        return list(self.movimientos)  \n",
        "\n",
        "class CajaDeAhorro (CuentaBancaria):\n",
        "    def __init__(self, saldo_inicial, nombre, apellido, moneda='$'):\n",
        "            super().__init__(saldo_inicial, nombre, apellido, moneda)\n",
        "\n",
        "class CuentaCorriente(CuentaBancaria):\n",
        "    def __init__(self, saldo_inicial, nombre, apellido, moneda='$', descubierto=0):\n",
        "            super().__init__(saldo_inicial, nombre, apellido, moneda)\n",
        "            self.descubierto = descubierto\n",
        "\n",
        "        \n",
        "    def extraer(self, monto):\n",
        "            '''Método que nos permite realizar una extracción de una cuenta corriente'''\n",
        "            if self.saldo + self.descubierto - monto >= 0:\n",
        "                self.movimientos.append('EXTRACCION: ' + str(monto))\n",
        "                self.saldo = self.saldo - monto\n",
        "                if self.saldo < 0:\n",
        "                    self.descubierto += self.saldo\n",
        "                    self.saldo = 0\n",
        "            else:\n",
        "                self.movimientos.append('SALDO INSUFICIENTE: ' + str)\n",
        "    \n",
        "     \n",
        "\n",
        "\n"
      ]
    },
    {
      "cell_type": "code",
      "source": [
        "#instanciar la clase \n",
        "mi_cuenta = CuentaBancaria(1000, \"Juan\", \"Pérez\", \"Pesos Argentinos\")\n",
        "mi_cuenta.depositar(500)\n",
        "mi_cuenta.extraer(200)\n",
        "print(\"El saldo actual de la cuenta es:\", mi_cuenta.datos_saldo(), mi_cuenta.moneda)\n",
        "print(\"Movimientos realizados:\", mi_cuenta.datos_movimientos())"
      ],
      "metadata": {
        "colab": {
          "base_uri": "https://localhost:8080/"
        },
        "id": "QgBFMK0UjpF2",
        "outputId": "db953eec-228f-44ca-a449-f0fea30010be"
      },
      "execution_count": null,
      "outputs": [
        {
          "output_type": "stream",
          "name": "stdout",
          "text": [
            "El saldo actual de la cuenta es: 1300 Pesos Argentinos\n",
            "Movimientos realizados: ['DEPOSITO: 500', 'EXTRACCION: 200']\n"
          ]
        }
      ]
    },
    {
      "cell_type": "markdown",
      "source": [
        "2)Animales"
      ],
      "metadata": {
        "id": "f60VugtVeqjo"
      }
    },
    {
      "cell_type": "code",
      "source": [
        "class Animal:\n",
        "\n",
        "    # Edad es un argumento opcional\n",
        "    def __init__(self, nombre, edad = -1):\n",
        "        self.nombre = nombre\n",
        "        self.edad = edad\n",
        "\n",
        "    def hablar(self):\n",
        "        print('Soy ' + self.nombre + ' y digo .....')\n",
        "\n",
        "class Perro(Animal):\n",
        "    texto_hablar = 'Guau!'\n",
        "\n",
        "    def hablar(self):\n",
        "        print('Soy ' + self.nombre + ' y digo ' + self.texto_hablar)   \n",
        "\n",
        "class Gato(Animal):\n",
        "    def hablar(self):\n",
        "        print('Soy ' + self.nombre + ' y digo Miau!')\n",
        "\n",
        "class Raton(Animal):\n",
        "    pass\n",
        "\n",
        "class Gatito(Gato):\n",
        "    pass\n",
        "\n",
        "for elem in Perro('Spike'), Gato('Tom'), Raton('Jerry', 3), Gatito(\"Mininito\"): \n",
        "    elem.hablar()\n",
        "   \n"
      ],
      "metadata": {
        "id": "s0At3vDeeqI8",
        "colab": {
          "base_uri": "https://localhost:8080/"
        },
        "outputId": "5632f37a-8318-41ff-ef5a-120379171e09"
      },
      "execution_count": null,
      "outputs": [
        {
          "output_type": "stream",
          "name": "stdout",
          "text": [
            "Soy Spike y digo Guau!\n",
            "Soy Tom y digo Miau!\n",
            "Soy Jerry y digo .....\n",
            "Soy Mininito y digo Miau!\n"
          ]
        }
      ]
    },
    {
      "cell_type": "markdown",
      "source": [
        "3) Geometría"
      ],
      "metadata": {
        "id": "LwunvHgde7gr"
      }
    },
    {
      "cell_type": "code",
      "source": [
        "class Figura:\n",
        "    pass\n",
        "\n",
        "class Cuadrado(Figura):\n",
        "    def __init__(self, lado):\n",
        "        self.lado = lado \n",
        "\n",
        "    def perimetro(self):\n",
        "        return self.lado * 4\n",
        "\n",
        "class Rectangulo(Figura):\n",
        "    def __init__(self, lado1, lado2):\n",
        "        self.lado1 = lado1 \n",
        "        self.lado2 = lado2 \n",
        "\n",
        "    def perimetro(self):\n",
        "        return 2*self.lado1 + 2*self.lado2\n",
        "\n",
        "# TODO: Pensar en otra posible herencia (taxonomía)\n",
        "#perímetro de un rectángulo \n",
        "\n",
        "class Triangulo(Figura):\n",
        "    def __init__(self, lado1, lado2, lado3):\n",
        "       self.lado1=lado1\n",
        "       self.lado2=lado2\n",
        "       self.lado3=lado3\n",
        "\n",
        "    def perimetro_triangulo (self):\n",
        "        return self.lado1 + self.lado2 + self.lado3\n",
        "\n",
        "\n",
        "# Pruebas\n",
        "c1 = Cuadrado(6)\n",
        "c2 = Cuadrado(4)\n",
        "print(c1.perimetro())\n",
        "print(c2.perimetro())\n",
        "\n",
        "r1 = Rectangulo(3,4)\n",
        "r2 = Rectangulo(4,10)\n",
        "print(r1.perimetro())\n",
        "print(r2.perimetro())\n",
        "\n",
        "##prueba\n",
        "#perímetro de un triángulo\n",
        "t1 = Triangulo(3, 4, 5)\n",
        "print(\"El perimetro del triangulo es:\", t1.perimetro_triangulo())\n",
        "\n"
      ],
      "metadata": {
        "id": "G7IcrD0Ne8LI",
        "colab": {
          "base_uri": "https://localhost:8080/"
        },
        "outputId": "23d9b6bb-ce56-4360-efbd-c9195ef13481"
      },
      "execution_count": 9,
      "outputs": [
        {
          "output_type": "stream",
          "name": "stdout",
          "text": [
            "24\n",
            "16\n",
            "14\n",
            "28\n",
            "El perimetro del triangulo es: 12\n"
          ]
        }
      ]
    }
  ]
}